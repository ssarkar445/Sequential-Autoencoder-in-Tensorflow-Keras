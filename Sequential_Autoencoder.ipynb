{
  "nbformat": 4,
  "nbformat_minor": 0,
  "metadata": {
    "colab": {
      "name": "Sequential Autoencoder.ipynb",
      "provenance": [],
      "collapsed_sections": []
    },
    "kernelspec": {
      "name": "python3",
      "display_name": "Python 3"
    },
    "accelerator": "GPU"
  },
  "cells": [
    {
      "cell_type": "code",
      "metadata": {
        "id": "cDn7zduxRVDl",
        "colab_type": "code",
        "colab": {}
      },
      "source": [
        "'''\n",
        "This is a very basic example of AutoEncoders.\n",
        "Used for image compression , can be thought as PCA\n",
        "'''"
      ],
      "execution_count": 0,
      "outputs": []
    },
    {
      "cell_type": "code",
      "metadata": {
        "id": "CCxnNLsIX78j",
        "colab_type": "code",
        "colab": {}
      },
      "source": [
        "# Importing the basic libraries\n",
        "from tensorflow.keras.models import Sequential\n",
        "from tensorflow.keras.layers import Dense\n",
        "from tensorflow.keras.datasets import mnist\n",
        "import matplotlib.pyplot as plt\n",
        "import numpy as np\n",
        "import warnings\n",
        "warnings.filterwarnings('ignore')\n",
        "%matplotlib inline"
      ],
      "execution_count": 0,
      "outputs": []
    },
    {
      "cell_type": "code",
      "metadata": {
        "id": "Z0ePCOZzWKqE",
        "colab_type": "code",
        "colab": {}
      },
      "source": [
        "# Importing the train and test data\n",
        "(X_train,y_train),(X_test,y_test)=mnist.load_data()\n",
        "\n",
        "# Scaling the data\n",
        "X_train = X_train/255.0\n",
        "X_test = X_test/255.0\n",
        "\n",
        "# Reshaping the Data\n",
        "X_train = X_train.reshape(-1,(28*28))\n",
        "X_test = X_test.reshape(-1,(28*28))"
      ],
      "execution_count": 0,
      "outputs": []
    },
    {
      "cell_type": "code",
      "metadata": {
        "id": "MO-_qn-2Ricb",
        "colab_type": "code",
        "colab": {}
      },
      "source": [
        "# Defining our model\n",
        "model = Sequential()\n",
        "\n",
        "# Encoding\n",
        "model.add(Dense(units = 128,activation='relu',input_dim=784))\n",
        "model.add(Dense(units = 64,activation='relu'))\n",
        "model.add(Dense(units = 32,activation='relu'))\n",
        "model.add(Dense(units = 16,activation='relu'))\n",
        "model.add(Dense(units = 8,activation='relu'))\n",
        "\n",
        "# Decoding\n",
        "model.add(Dense(units = 16,activation='relu'))\n",
        "model.add(Dense(units = 32,activation='relu'))\n",
        "model.add(Dense(units = 64,activation='relu'))\n",
        "model.add(Dense(units = 128,activation='relu'))\n",
        "model.add(Dense(units = 784,activation='sigmoid'))"
      ],
      "execution_count": 0,
      "outputs": []
    },
    {
      "cell_type": "code",
      "metadata": {
        "id": "S6mHLNHgSU8X",
        "colab_type": "code",
        "colab": {}
      },
      "source": [
        "# Compiling the model\n",
        "model.compile(optimizer='adam',loss='binary_crossentropy',metrics=['accuracy'])"
      ],
      "execution_count": 0,
      "outputs": []
    },
    {
      "cell_type": "code",
      "metadata": {
        "id": "SFzhGf1uWF7g",
        "colab_type": "code",
        "outputId": "cd3b41f7-f1d1-44a9-a2c7-fb13cab3a0c2",
        "colab": {
          "base_uri": "https://localhost:8080/",
          "height": 924
        }
      },
      "source": [
        "# Fitting the model change as per need\n",
        "model.fit(X_train,X_train,epochs=25,batch_size=32,validation_data=(X_test,X_test))"
      ],
      "execution_count": 0,
      "outputs": [
        {
          "output_type": "stream",
          "text": [
            "Epoch 1/25\n",
            "1875/1875 [==============================] - 7s 4ms/step - loss: 0.1958 - accuracy: 0.0102 - val_loss: 0.1596 - val_accuracy: 0.0114\n",
            "Epoch 2/25\n",
            "1875/1875 [==============================] - 7s 4ms/step - loss: 0.1519 - accuracy: 0.0086 - val_loss: 0.1443 - val_accuracy: 0.0105\n",
            "Epoch 3/25\n",
            "1875/1875 [==============================] - 7s 4ms/step - loss: 0.1425 - accuracy: 0.0083 - val_loss: 0.1383 - val_accuracy: 0.0095\n",
            "Epoch 4/25\n",
            "1875/1875 [==============================] - 7s 4ms/step - loss: 0.1361 - accuracy: 0.0094 - val_loss: 0.1334 - val_accuracy: 0.0101\n",
            "Epoch 5/25\n",
            "1875/1875 [==============================] - 7s 4ms/step - loss: 0.1324 - accuracy: 0.0092 - val_loss: 0.1304 - val_accuracy: 0.0105\n",
            "Epoch 6/25\n",
            "1875/1875 [==============================] - 7s 4ms/step - loss: 0.1301 - accuracy: 0.0092 - val_loss: 0.1288 - val_accuracy: 0.0098\n",
            "Epoch 7/25\n",
            "1875/1875 [==============================] - 7s 4ms/step - loss: 0.1285 - accuracy: 0.0101 - val_loss: 0.1275 - val_accuracy: 0.0123\n",
            "Epoch 8/25\n",
            "1875/1875 [==============================] - 7s 4ms/step - loss: 0.1273 - accuracy: 0.0111 - val_loss: 0.1263 - val_accuracy: 0.0139\n",
            "Epoch 9/25\n",
            "1875/1875 [==============================] - 7s 4ms/step - loss: 0.1264 - accuracy: 0.0111 - val_loss: 0.1258 - val_accuracy: 0.0159\n",
            "Epoch 10/25\n",
            "1875/1875 [==============================] - 7s 4ms/step - loss: 0.1256 - accuracy: 0.0113 - val_loss: 0.1248 - val_accuracy: 0.0135\n",
            "Epoch 11/25\n",
            "1875/1875 [==============================] - 7s 4ms/step - loss: 0.1249 - accuracy: 0.0109 - val_loss: 0.1257 - val_accuracy: 0.0132\n",
            "Epoch 12/25\n",
            "1875/1875 [==============================] - 7s 4ms/step - loss: 0.1244 - accuracy: 0.0119 - val_loss: 0.1244 - val_accuracy: 0.0149\n",
            "Epoch 13/25\n",
            "1875/1875 [==============================] - 7s 4ms/step - loss: 0.1239 - accuracy: 0.0118 - val_loss: 0.1239 - val_accuracy: 0.0128\n",
            "Epoch 14/25\n",
            "1875/1875 [==============================] - 7s 4ms/step - loss: 0.1235 - accuracy: 0.0117 - val_loss: 0.1235 - val_accuracy: 0.0161\n",
            "Epoch 15/25\n",
            "1875/1875 [==============================] - 7s 4ms/step - loss: 0.1231 - accuracy: 0.0126 - val_loss: 0.1230 - val_accuracy: 0.0158\n",
            "Epoch 16/25\n",
            "1875/1875 [==============================] - 7s 4ms/step - loss: 0.1227 - accuracy: 0.0121 - val_loss: 0.1240 - val_accuracy: 0.0125\n",
            "Epoch 17/25\n",
            "1875/1875 [==============================] - 7s 4ms/step - loss: 0.1224 - accuracy: 0.0120 - val_loss: 0.1230 - val_accuracy: 0.0120\n",
            "Epoch 18/25\n",
            "1875/1875 [==============================] - 7s 4ms/step - loss: 0.1220 - accuracy: 0.0124 - val_loss: 0.1224 - val_accuracy: 0.0114\n",
            "Epoch 19/25\n",
            "1875/1875 [==============================] - 7s 4ms/step - loss: 0.1217 - accuracy: 0.0120 - val_loss: 0.1228 - val_accuracy: 0.0127\n",
            "Epoch 20/25\n",
            "1875/1875 [==============================] - 7s 4ms/step - loss: 0.1215 - accuracy: 0.0123 - val_loss: 0.1219 - val_accuracy: 0.0114\n",
            "Epoch 21/25\n",
            "1875/1875 [==============================] - 7s 4ms/step - loss: 0.1211 - accuracy: 0.0117 - val_loss: 0.1216 - val_accuracy: 0.0137\n",
            "Epoch 22/25\n",
            "1875/1875 [==============================] - 7s 4ms/step - loss: 0.1204 - accuracy: 0.0111 - val_loss: 0.1205 - val_accuracy: 0.0128\n",
            "Epoch 23/25\n",
            "1875/1875 [==============================] - 7s 4ms/step - loss: 0.1196 - accuracy: 0.0118 - val_loss: 0.1198 - val_accuracy: 0.0119\n",
            "Epoch 24/25\n",
            "1875/1875 [==============================] - 7s 4ms/step - loss: 0.1190 - accuracy: 0.0108 - val_loss: 0.1194 - val_accuracy: 0.0117\n",
            "Epoch 25/25\n",
            "1875/1875 [==============================] - 7s 4ms/step - loss: 0.1186 - accuracy: 0.0121 - val_loss: 0.1190 - val_accuracy: 0.0108\n"
          ],
          "name": "stdout"
        },
        {
          "output_type": "execute_result",
          "data": {
            "text/plain": [
              "<tensorflow.python.keras.callbacks.History at 0x7f86e6583e48>"
            ]
          },
          "metadata": {
            "tags": []
          },
          "execution_count": 29
        }
      ]
    },
    {
      "cell_type": "code",
      "metadata": {
        "id": "__HNzmLIXq2a",
        "colab_type": "code",
        "colab": {}
      },
      "source": [
        "# Predicting the Output\n",
        "\n",
        "prediction = model.predict(X_test)"
      ],
      "execution_count": 0,
      "outputs": []
    },
    {
      "cell_type": "code",
      "metadata": {
        "id": "sEFzKjKiZo9F",
        "colab_type": "code",
        "outputId": "d8adb2b7-e727-4a96-d3e4-c1b472acda26",
        "colab": {
          "base_uri": "https://localhost:8080/",
          "height": 268
        }
      },
      "source": [
        "# Plotting the actual and predicted image\n",
        "\n",
        "num = 5\n",
        "plt.figure(figsize=(20,4))\n",
        "\n",
        "for i in range(num):\n",
        "  ax = plt.subplot(2,num,i+1)\n",
        "  plt.imshow(X_test[i].reshape(28,28))\n",
        "\n",
        "  ax = plt.subplot(2,num,i+1+num)\n",
        "  plt.imshow(prediction[i].reshape(28,28))"
      ],
      "execution_count": 0,
      "outputs": [
        {
          "output_type": "display_data",
          "data": {
            "image/png": "[encoded data removed]",
            "text/plain": [
              "<Figure size 1440x288 with 10 Axes>"
            ]
          },
          "metadata": {
            "tags": [],
            "needs_background": "light"
          }
        }
      ]
    },
    {
      "cell_type": "code",
      "metadata": {
        "id": "Y9DGMf_OZxcn",
        "colab_type": "code",
        "colab": {}
      },
      "source": [
        ""
      ],
      "execution_count": 0,
      "outputs": []
    }
  ]
}